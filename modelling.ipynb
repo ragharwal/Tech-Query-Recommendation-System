{
 "cells": [
  {
   "cell_type": "markdown",
   "id": "c9a673e5",
   "metadata": {},
   "source": [
    "**Importing All the libraries**"
   ]
  },
  {
   "cell_type": "code",
   "execution_count": 3,
   "id": "d1f28fb1",
   "metadata": {},
   "outputs": [],
   "source": [
    "import pandas as pd\n",
    "import ast\n",
    "from sklearn.metrics.pairwise import cosine_similarity\n",
    "from sklearn.feature_extraction.text import CountVectorizer"
   ]
  },
  {
   "cell_type": "markdown",
   "id": "bdec3fc4",
   "metadata": {},
   "source": [
    "**Viewing the pre processed Data**"
   ]
  },
  {
   "cell_type": "code",
   "execution_count": 4,
   "id": "175eba46",
   "metadata": {},
   "outputs": [],
   "source": [
    "data=pd.read_csv('dataset/clean_data.csv')"
   ]
  },
  {
   "cell_type": "code",
   "execution_count": 5,
   "id": "7c5f50dd",
   "metadata": {},
   "outputs": [
    {
     "data": {
      "text/plain": [
       "\"['java', 'c++', 'performance', 'cpu-architecture', 'branch-prediction']\""
      ]
     },
     "execution_count": 5,
     "metadata": {},
     "output_type": "execute_result"
    }
   ],
   "source": [
    "#data.head()\n",
    "data['keywords'][0]"
   ]
  },
  {
   "cell_type": "code",
   "execution_count": 6,
   "id": "51d6852b",
   "metadata": {},
   "outputs": [],
   "source": [
    "from sklearn.feature_extraction.text import CountVectorizer"
   ]
  },
  {
   "cell_type": "code",
   "execution_count": null,
   "id": "44450a3f",
   "metadata": {},
   "outputs": [],
   "source": []
  },
  {
   "cell_type": "code",
   "execution_count": 7,
   "id": "5c10cf79",
   "metadata": {},
   "outputs": [
    {
     "data": {
      "text/plain": [
       "0       ['java', 'c++', 'performance', 'cpu-architectu...\n",
       "1        ['git', 'version-control', 'git-commit', 'undo']\n",
       "2       ['git', 'version-control', 'git-branch', 'git-...\n",
       "3       ['git', 'version-control', 'git-pull', 'git-fe...\n",
       "4       ['python', 'iterator', 'generator', 'yield', '...\n",
       "                              ...                        \n",
       "4970                 ['git', 'git-checkout', 'git-reset']\n",
       "4971       ['ios', 'cocoa-touch', 'uitextfield', 'uikit']\n",
       "4972                   ['python', 'django', 'python-2.x']\n",
       "4973    ['python', 'command-line', 'command-line-argum...\n",
       "4974                                       ['typescript']\n",
       "Name: keywords, Length: 4975, dtype: object"
      ]
     },
     "execution_count": 7,
     "metadata": {},
     "output_type": "execute_result"
    }
   ],
   "source": [
    "data['keywords']"
   ]
  },
  {
   "cell_type": "code",
   "execution_count": 8,
   "id": "af1b56e7",
   "metadata": {},
   "outputs": [
    {
     "data": {
      "text/plain": [
       "\"['java', 'c++', 'performance', 'cpu-architecture', 'branch-prediction']\""
      ]
     },
     "execution_count": 8,
     "metadata": {},
     "output_type": "execute_result"
    }
   ],
   "source": [
    "data['keywords'][0]"
   ]
  },
  {
   "cell_type": "code",
   "execution_count": 9,
   "id": "bea2148b",
   "metadata": {},
   "outputs": [
    {
     "data": {
      "text/html": [
       "<div>\n",
       "<style scoped>\n",
       "    .dataframe tbody tr th:only-of-type {\n",
       "        vertical-align: middle;\n",
       "    }\n",
       "\n",
       "    .dataframe tbody tr th {\n",
       "        vertical-align: top;\n",
       "    }\n",
       "\n",
       "    .dataframe thead th {\n",
       "        text-align: right;\n",
       "    }\n",
       "</style>\n",
       "<table border=\"1\" class=\"dataframe\">\n",
       "  <thead>\n",
       "    <tr style=\"text-align: right;\">\n",
       "      <th></th>\n",
       "      <th>Unnamed: 0</th>\n",
       "      <th>ques_link</th>\n",
       "      <th>vote_count</th>\n",
       "      <th>answer_count</th>\n",
       "      <th>ques_title</th>\n",
       "      <th>ques_summ</th>\n",
       "      <th>keywords</th>\n",
       "      <th>date</th>\n",
       "    </tr>\n",
       "  </thead>\n",
       "  <tbody>\n",
       "    <tr>\n",
       "      <th>0</th>\n",
       "      <td>0</td>\n",
       "      <td>\"/questions/11227809/why-is-processing-a-sorte...</td>\n",
       "      <td>26265</td>\n",
       "      <td>28</td>\n",
       "      <td>Why is processing a sorted array faster than p...</td>\n",
       "      <td>Here is a piece of C++ code that shows some ve...</td>\n",
       "      <td>['java', 'c++', 'performance', 'cpu-architectu...</td>\n",
       "      <td>2012-06-27</td>\n",
       "    </tr>\n",
       "    <tr>\n",
       "      <th>1</th>\n",
       "      <td>1</td>\n",
       "      <td>\"/questions/927358/how-do-i-undo-the-most-rece...</td>\n",
       "      <td>24035</td>\n",
       "      <td>98</td>\n",
       "      <td>How do I undo the most recent local commits in...</td>\n",
       "      <td>I accidentally committed the wrong files to Gi...</td>\n",
       "      <td>['git', 'version-control', 'git-commit', 'undo']</td>\n",
       "      <td>2010-06-30</td>\n",
       "    </tr>\n",
       "    <tr>\n",
       "      <th>2</th>\n",
       "      <td>2</td>\n",
       "      <td>\"/questions/2003505/how-do-i-delete-a-git-bran...</td>\n",
       "      <td>18997</td>\n",
       "      <td>41</td>\n",
       "      <td>How do I delete a Git branch locally and remot...</td>\n",
       "      <td>I want to delete a branch both locally and rem...</td>\n",
       "      <td>['git', 'version-control', 'git-branch', 'git-...</td>\n",
       "      <td>2010-01-05</td>\n",
       "    </tr>\n",
       "    <tr>\n",
       "      <th>3</th>\n",
       "      <td>3</td>\n",
       "      <td>\"/questions/292357/what-is-the-difference-betw...</td>\n",
       "      <td>13069</td>\n",
       "      <td>38</td>\n",
       "      <td>What is the difference between 'git pull' and ...</td>\n",
       "      <td>What are the differences between git pull and ...</td>\n",
       "      <td>['git', 'version-control', 'git-pull', 'git-fe...</td>\n",
       "      <td>2008-11-15</td>\n",
       "    </tr>\n",
       "    <tr>\n",
       "      <th>4</th>\n",
       "      <td>4</td>\n",
       "      <td>\"/questions/231767/what-does-the-yield-keyword...</td>\n",
       "      <td>11895</td>\n",
       "      <td>47</td>\n",
       "      <td>What does the \"yield\" keyword do?</td>\n",
       "      <td>What is the use of the yield keyword in Python...</td>\n",
       "      <td>['python', 'iterator', 'generator', 'yield', '...</td>\n",
       "      <td>2008-10-23</td>\n",
       "    </tr>\n",
       "  </tbody>\n",
       "</table>\n",
       "</div>"
      ],
      "text/plain": [
       "   Unnamed: 0                                          ques_link  vote_count  \\\n",
       "0           0  \"/questions/11227809/why-is-processing-a-sorte...       26265   \n",
       "1           1  \"/questions/927358/how-do-i-undo-the-most-rece...       24035   \n",
       "2           2  \"/questions/2003505/how-do-i-delete-a-git-bran...       18997   \n",
       "3           3  \"/questions/292357/what-is-the-difference-betw...       13069   \n",
       "4           4  \"/questions/231767/what-does-the-yield-keyword...       11895   \n",
       "\n",
       "   answer_count                                         ques_title  \\\n",
       "0            28  Why is processing a sorted array faster than p...   \n",
       "1            98  How do I undo the most recent local commits in...   \n",
       "2            41  How do I delete a Git branch locally and remot...   \n",
       "3            38  What is the difference between 'git pull' and ...   \n",
       "4            47                  What does the \"yield\" keyword do?   \n",
       "\n",
       "                                           ques_summ  \\\n",
       "0  Here is a piece of C++ code that shows some ve...   \n",
       "1  I accidentally committed the wrong files to Gi...   \n",
       "2  I want to delete a branch both locally and rem...   \n",
       "3  What are the differences between git pull and ...   \n",
       "4  What is the use of the yield keyword in Python...   \n",
       "\n",
       "                                            keywords        date  \n",
       "0  ['java', 'c++', 'performance', 'cpu-architectu...  2012-06-27  \n",
       "1   ['git', 'version-control', 'git-commit', 'undo']  2010-06-30  \n",
       "2  ['git', 'version-control', 'git-branch', 'git-...  2010-01-05  \n",
       "3  ['git', 'version-control', 'git-pull', 'git-fe...  2008-11-15  \n",
       "4  ['python', 'iterator', 'generator', 'yield', '...  2008-10-23  "
      ]
     },
     "execution_count": 9,
     "metadata": {},
     "output_type": "execute_result"
    }
   ],
   "source": [
    "data.head()"
   ]
  },
  {
   "cell_type": "code",
   "execution_count": 10,
   "id": "330fec10",
   "metadata": {},
   "outputs": [],
   "source": [
    "def convert(text):\n",
    "    L = []\n",
    "    for i in ast.literal_eval(text):\n",
    "        L.append(i) \n",
    "    return L "
   ]
  },
  {
   "cell_type": "code",
   "execution_count": 11,
   "id": "de7c65c0",
   "metadata": {},
   "outputs": [],
   "source": [
    "data['keywords']= data['keywords'].apply(convert)"
   ]
  },
  {
   "cell_type": "code",
   "execution_count": 12,
   "id": "e9942ed8",
   "metadata": {},
   "outputs": [
    {
     "data": {
      "text/plain": [
       "['java', 'c++', 'performance', 'cpu-architecture', 'branch-prediction']"
      ]
     },
     "execution_count": 12,
     "metadata": {},
     "output_type": "execute_result"
    }
   ],
   "source": [
    "data['keywords'][0]"
   ]
  },
  {
   "cell_type": "code",
   "execution_count": 13,
   "id": "03b61802",
   "metadata": {},
   "outputs": [],
   "source": [
    "data['keywords']=data['keywords'].apply(lambda x: \" \".join(x))"
   ]
  },
  {
   "cell_type": "code",
   "execution_count": 14,
   "id": "d5e05a08",
   "metadata": {},
   "outputs": [
    {
     "data": {
      "text/html": [
       "<div>\n",
       "<style scoped>\n",
       "    .dataframe tbody tr th:only-of-type {\n",
       "        vertical-align: middle;\n",
       "    }\n",
       "\n",
       "    .dataframe tbody tr th {\n",
       "        vertical-align: top;\n",
       "    }\n",
       "\n",
       "    .dataframe thead th {\n",
       "        text-align: right;\n",
       "    }\n",
       "</style>\n",
       "<table border=\"1\" class=\"dataframe\">\n",
       "  <thead>\n",
       "    <tr style=\"text-align: right;\">\n",
       "      <th></th>\n",
       "      <th>Unnamed: 0</th>\n",
       "      <th>ques_link</th>\n",
       "      <th>vote_count</th>\n",
       "      <th>answer_count</th>\n",
       "      <th>ques_title</th>\n",
       "      <th>ques_summ</th>\n",
       "      <th>keywords</th>\n",
       "      <th>date</th>\n",
       "    </tr>\n",
       "  </thead>\n",
       "  <tbody>\n",
       "    <tr>\n",
       "      <th>0</th>\n",
       "      <td>0</td>\n",
       "      <td>\"/questions/11227809/why-is-processing-a-sorte...</td>\n",
       "      <td>26265</td>\n",
       "      <td>28</td>\n",
       "      <td>Why is processing a sorted array faster than p...</td>\n",
       "      <td>Here is a piece of C++ code that shows some ve...</td>\n",
       "      <td>java c++ performance cpu-architecture branch-p...</td>\n",
       "      <td>2012-06-27</td>\n",
       "    </tr>\n",
       "    <tr>\n",
       "      <th>1</th>\n",
       "      <td>1</td>\n",
       "      <td>\"/questions/927358/how-do-i-undo-the-most-rece...</td>\n",
       "      <td>24035</td>\n",
       "      <td>98</td>\n",
       "      <td>How do I undo the most recent local commits in...</td>\n",
       "      <td>I accidentally committed the wrong files to Gi...</td>\n",
       "      <td>git version-control git-commit undo</td>\n",
       "      <td>2010-06-30</td>\n",
       "    </tr>\n",
       "    <tr>\n",
       "      <th>2</th>\n",
       "      <td>2</td>\n",
       "      <td>\"/questions/2003505/how-do-i-delete-a-git-bran...</td>\n",
       "      <td>18997</td>\n",
       "      <td>41</td>\n",
       "      <td>How do I delete a Git branch locally and remot...</td>\n",
       "      <td>I want to delete a branch both locally and rem...</td>\n",
       "      <td>git version-control git-branch git-push git-re...</td>\n",
       "      <td>2010-01-05</td>\n",
       "    </tr>\n",
       "    <tr>\n",
       "      <th>3</th>\n",
       "      <td>3</td>\n",
       "      <td>\"/questions/292357/what-is-the-difference-betw...</td>\n",
       "      <td>13069</td>\n",
       "      <td>38</td>\n",
       "      <td>What is the difference between 'git pull' and ...</td>\n",
       "      <td>What are the differences between git pull and ...</td>\n",
       "      <td>git version-control git-pull git-fetch</td>\n",
       "      <td>2008-11-15</td>\n",
       "    </tr>\n",
       "    <tr>\n",
       "      <th>4</th>\n",
       "      <td>4</td>\n",
       "      <td>\"/questions/231767/what-does-the-yield-keyword...</td>\n",
       "      <td>11895</td>\n",
       "      <td>47</td>\n",
       "      <td>What does the \"yield\" keyword do?</td>\n",
       "      <td>What is the use of the yield keyword in Python...</td>\n",
       "      <td>python iterator generator yield coroutine</td>\n",
       "      <td>2008-10-23</td>\n",
       "    </tr>\n",
       "  </tbody>\n",
       "</table>\n",
       "</div>"
      ],
      "text/plain": [
       "   Unnamed: 0                                          ques_link  vote_count  \\\n",
       "0           0  \"/questions/11227809/why-is-processing-a-sorte...       26265   \n",
       "1           1  \"/questions/927358/how-do-i-undo-the-most-rece...       24035   \n",
       "2           2  \"/questions/2003505/how-do-i-delete-a-git-bran...       18997   \n",
       "3           3  \"/questions/292357/what-is-the-difference-betw...       13069   \n",
       "4           4  \"/questions/231767/what-does-the-yield-keyword...       11895   \n",
       "\n",
       "   answer_count                                         ques_title  \\\n",
       "0            28  Why is processing a sorted array faster than p...   \n",
       "1            98  How do I undo the most recent local commits in...   \n",
       "2            41  How do I delete a Git branch locally and remot...   \n",
       "3            38  What is the difference between 'git pull' and ...   \n",
       "4            47                  What does the \"yield\" keyword do?   \n",
       "\n",
       "                                           ques_summ  \\\n",
       "0  Here is a piece of C++ code that shows some ve...   \n",
       "1  I accidentally committed the wrong files to Gi...   \n",
       "2  I want to delete a branch both locally and rem...   \n",
       "3  What are the differences between git pull and ...   \n",
       "4  What is the use of the yield keyword in Python...   \n",
       "\n",
       "                                            keywords        date  \n",
       "0  java c++ performance cpu-architecture branch-p...  2012-06-27  \n",
       "1                git version-control git-commit undo  2010-06-30  \n",
       "2  git version-control git-branch git-push git-re...  2010-01-05  \n",
       "3             git version-control git-pull git-fetch  2008-11-15  \n",
       "4          python iterator generator yield coroutine  2008-10-23  "
      ]
     },
     "execution_count": 14,
     "metadata": {},
     "output_type": "execute_result"
    }
   ],
   "source": [
    "data.head()"
   ]
  },
  {
   "cell_type": "code",
   "execution_count": 15,
   "id": "df8d1dc7",
   "metadata": {},
   "outputs": [
    {
     "data": {
      "text/plain": [
       "'java c++ performance cpu-architecture branch-prediction'"
      ]
     },
     "execution_count": 15,
     "metadata": {},
     "output_type": "execute_result"
    }
   ],
   "source": [
    "data['keywords'][0]"
   ]
  },
  {
   "cell_type": "code",
   "execution_count": 16,
   "id": "c35e0bfd",
   "metadata": {},
   "outputs": [
    {
     "data": {
      "text/plain": [
       "'git version-control git-commit undo'"
      ]
     },
     "execution_count": 16,
     "metadata": {},
     "output_type": "execute_result"
    }
   ],
   "source": [
    "data['keywords'][1]"
   ]
  },
  {
   "cell_type": "markdown",
   "id": "48d84a52",
   "metadata": {},
   "source": [
    "**now building vectors of the tags on the basis of frequency**"
   ]
  },
  {
   "cell_type": "code",
   "execution_count": 17,
   "id": "e481ccda",
   "metadata": {},
   "outputs": [
    {
     "data": {
      "text/plain": [
       "sklearn.feature_extraction.text.CountVectorizer"
      ]
     },
     "execution_count": 17,
     "metadata": {},
     "output_type": "execute_result"
    }
   ],
   "source": [
    "CountVectorizer"
   ]
  },
  {
   "cell_type": "code",
   "execution_count": 18,
   "id": "529cd2ad",
   "metadata": {},
   "outputs": [],
   "source": [
    "cv=CountVectorizer(max_features=100)"
   ]
  },
  {
   "cell_type": "code",
   "execution_count": 19,
   "id": "4f5107f8",
   "metadata": {},
   "outputs": [],
   "source": [
    "vectors=cv.fit_transform(data['keywords']).toarray()"
   ]
  },
  {
   "cell_type": "code",
   "execution_count": 20,
   "id": "58f9ef10",
   "metadata": {},
   "outputs": [
    {
     "data": {
      "text/plain": [
       "(4975, 100)"
      ]
     },
     "execution_count": 20,
     "metadata": {},
     "output_type": "execute_result"
    }
   ],
   "source": [
    "cv.fit_transform(data['keywords']).toarray().shape"
   ]
  },
  {
   "cell_type": "code",
   "execution_count": 21,
   "id": "94c95874",
   "metadata": {},
   "outputs": [
    {
     "data": {
      "text/plain": [
       "array([0, 0, 0, 0, 0, 0, 0, 0, 0, 0, 1, 0, 0, 0, 0, 0, 0, 0, 0, 0, 0, 0,\n",
       "       0, 0, 0, 0, 0, 0, 0, 0, 0, 0, 0, 0, 0, 0, 0, 0, 0, 0, 0, 0, 0, 0,\n",
       "       0, 0, 0, 0, 1, 0, 0, 0, 0, 0, 0, 0, 0, 0, 0, 0, 0, 0, 0, 0, 0, 0,\n",
       "       0, 0, 0, 0, 1, 0, 0, 0, 0, 0, 0, 0, 0, 0, 0, 0, 0, 0, 0, 0, 0, 0,\n",
       "       0, 0, 0, 0, 0, 0, 0, 0, 0, 0, 0, 0], dtype=int64)"
      ]
     },
     "execution_count": 21,
     "metadata": {},
     "output_type": "execute_result"
    }
   ],
   "source": [
    "vectors[0]"
   ]
  },
  {
   "cell_type": "code",
   "execution_count": 22,
   "id": "8d3f4b5f",
   "metadata": {},
   "outputs": [
    {
     "data": {
      "text/plain": [
       "array([0, 0, 0, 0, 0, 0, 0, 0, 0, 0, 0, 0, 0, 0, 0, 0, 0, 0, 0, 0, 0, 0,\n",
       "       0, 0, 0, 0, 0, 0, 0, 0, 0, 0, 0, 0, 0, 0, 0, 0, 0, 0, 0, 0, 0, 0,\n",
       "       0, 0, 0, 0, 0, 1, 0, 0, 0, 0, 0, 0, 0, 0, 0, 0, 0, 0, 0, 0, 0, 0,\n",
       "       0, 0, 0, 0, 0, 0, 0, 0, 0, 0, 0, 0, 0, 0, 0, 0, 0, 1, 0, 0, 0, 0,\n",
       "       0, 0, 0, 0, 0, 0, 0, 0, 0, 0, 0, 0], dtype=int64)"
      ]
     },
     "execution_count": 22,
     "metadata": {},
     "output_type": "execute_result"
    }
   ],
   "source": [
    "vectors[56]"
   ]
  },
  {
   "cell_type": "code",
   "execution_count": 23,
   "id": "50aac93e",
   "metadata": {},
   "outputs": [
    {
     "data": {
      "text/plain": [
       "['agnostic',\n",
       " 'ajax',\n",
       " 'algorithm',\n",
       " 'android',\n",
       " 'angular',\n",
       " 'angularjs',\n",
       " 'arrays',\n",
       " 'asp',\n",
       " 'bash',\n",
       " 'bootstrap',\n",
       " 'branch',\n",
       " 'browser',\n",
       " 'chrome',\n",
       " 'class',\n",
       " 'cocoa',\n",
       " 'code',\n",
       " 'command',\n",
       " 'commit',\n",
       " 'control',\n",
       " 'css',\n",
       " 'data',\n",
       " 'database',\n",
       " 'dataframe',\n",
       " 'date',\n",
       " 'datetime',\n",
       " 'design',\n",
       " 'dictionary',\n",
       " 'directory',\n",
       " 'django',\n",
       " 'docker',\n",
       " 'dom',\n",
       " 'events',\n",
       " 'exception',\n",
       " 'faq',\n",
       " 'file',\n",
       " 'formatting',\n",
       " 'function',\n",
       " 'git',\n",
       " 'github',\n",
       " 'google',\n",
       " 'gradle',\n",
       " 'handling',\n",
       " 'html',\n",
       " 'http',\n",
       " 'image',\n",
       " 'interface',\n",
       " 'io',\n",
       " 'ios',\n",
       " 'java',\n",
       " 'javascript',\n",
       " 'jquery',\n",
       " 'js',\n",
       " 'json',\n",
       " 'language',\n",
       " 'line',\n",
       " 'linux',\n",
       " 'list',\n",
       " 'loops',\n",
       " 'macos',\n",
       " 'memory',\n",
       " 'merge',\n",
       " 'mysql',\n",
       " 'net',\n",
       " 'node',\n",
       " 'npm',\n",
       " 'object',\n",
       " 'objective',\n",
       " 'on',\n",
       " 'oop',\n",
       " 'pandas',\n",
       " 'performance',\n",
       " 'php',\n",
       " 'postgresql',\n",
       " 'python',\n",
       " 'rails',\n",
       " 'reactjs',\n",
       " 'regex',\n",
       " 'rest',\n",
       " 'ruby',\n",
       " 'selectors',\n",
       " 'server',\n",
       " 'shell',\n",
       " 'sql',\n",
       " 'string',\n",
       " 'studio',\n",
       " 'swift',\n",
       " 'syntax',\n",
       " 'terminology',\n",
       " 'testing',\n",
       " 'time',\n",
       " 'tsql',\n",
       " 'twitter',\n",
       " 'unix',\n",
       " 'url',\n",
       " 'variables',\n",
       " 'version',\n",
       " 'vim',\n",
       " 'visual',\n",
       " 'windows',\n",
       " 'xcode']"
      ]
     },
     "execution_count": 23,
     "metadata": {},
     "output_type": "execute_result"
    }
   ],
   "source": [
    "cv.get_feature_names()"
   ]
  },
  {
   "cell_type": "markdown",
   "id": "5d709a12",
   "metadata": {},
   "source": [
    "**Now calculating the cosine distance between the two vectors**"
   ]
  },
  {
   "cell_type": "code",
   "execution_count": 24,
   "id": "3253710a",
   "metadata": {},
   "outputs": [],
   "source": [
    "similarity = cosine_similarity(vectors)"
   ]
  },
  {
   "cell_type": "code",
   "execution_count": 25,
   "id": "9be83da5",
   "metadata": {},
   "outputs": [
    {
     "data": {
      "text/plain": [
       "(4975, 4975)"
      ]
     },
     "execution_count": 25,
     "metadata": {},
     "output_type": "execute_result"
    }
   ],
   "source": [
    "cosine_similarity(vectors).shape"
   ]
  },
  {
   "cell_type": "code",
   "execution_count": 26,
   "id": "105ba5fd",
   "metadata": {},
   "outputs": [
    {
     "data": {
      "text/plain": [
       "array([1.        , 0.        , 0.13245324, ..., 0.        , 0.        ,\n",
       "       0.        ])"
      ]
     },
     "execution_count": 26,
     "metadata": {},
     "output_type": "execute_result"
    }
   ],
   "source": [
    "similarity[0]"
   ]
  },
  {
   "cell_type": "code",
   "execution_count": 27,
   "id": "c7ac8699",
   "metadata": {},
   "outputs": [
    {
     "data": {
      "text/plain": [
       "array([0.        , 1.        , 0.86710997, ..., 0.        , 0.        ,\n",
       "       0.        ])"
      ]
     },
     "execution_count": 27,
     "metadata": {},
     "output_type": "execute_result"
    }
   ],
   "source": [
    "similarity[1]"
   ]
  },
  {
   "cell_type": "code",
   "execution_count": null,
   "id": "dc288284",
   "metadata": {},
   "outputs": [],
   "source": []
  },
  {
   "cell_type": "code",
   "execution_count": 28,
   "id": "8fa96e13",
   "metadata": {},
   "outputs": [],
   "source": [
    "def recommend(query):\n",
    "    index = data[data['ques_title'] == query].index[0]\n",
    "    distances = sorted(list(enumerate(similarity[index])),reverse=True,key = lambda x: x[1])\n",
    "    for i in distances[1:6]:\n",
    "        print(data.iloc[i[0]].ques_title)\n",
    "        print(data.iloc[i[0]].ques_link)\n"
   ]
  },
  {
   "cell_type": "code",
   "execution_count": 29,
   "id": "598b11ce",
   "metadata": {},
   "outputs": [
    {
     "data": {
      "text/plain": [
       "'Why is processing a sorted array faster than processing an unsorted array?'"
      ]
     },
     "execution_count": 29,
     "metadata": {},
     "output_type": "execute_result"
    }
   ],
   "source": [
    "data['ques_title'][0]"
   ]
  },
  {
   "cell_type": "code",
   "execution_count": 30,
   "id": "4302bb54",
   "metadata": {},
   "outputs": [
    {
     "name": "stdout",
     "output_type": "stream",
     "text": [
      "Why is 2 * (i * i) faster than 2 * i * i in Java?\n",
      "\"/questions/53452713/why-is-2-i-i-faster-than-2-i-i-in-java\"\n",
      "Efficiency of Java \"Double Brace Initialization\"?\n",
      "\"/questions/924285/efficiency-of-java-double-brace-initialization\"\n",
      "Why is printing \"B\" dramatically slower than printing \"#\"?\n",
      "\"/questions/21947452/why-is-printing-b-dramatically-slower-than-printing\"\n",
      "StringBuilder vs String concatenation in toString() in Java\n",
      "\"/questions/1532461/stringbuilder-vs-string-concatenation-in-tostring-in-java\"\n",
      "Convert Set to List without creating new List\n",
      "\"/questions/8892360/convert-set-to-list-without-creating-new-list\"\n"
     ]
    }
   ],
   "source": [
    "recommend('Why is processing a sorted array faster than processing an unsorted array?')"
   ]
  },
  {
   "cell_type": "code",
   "execution_count": 31,
   "id": "66dab45b",
   "metadata": {},
   "outputs": [
    {
     "data": {
      "text/plain": [
       "'What does the \"yield\" keyword do?'"
      ]
     },
     "execution_count": 31,
     "metadata": {},
     "output_type": "execute_result"
    }
   ],
   "source": [
    "data['ques_title'][4]"
   ]
  },
  {
   "cell_type": "code",
   "execution_count": 32,
   "id": "2707bcfa",
   "metadata": {},
   "outputs": [
    {
     "name": "stdout",
     "output_type": "stream",
     "text": [
      "What does if __name__ == \"__main__\": do?\n",
      "Does Python have a ternary conditional operator?\n",
      "What is the difference between __str__ and __repr__?\n",
      "What is __init__.py for?\n",
      "How can I make a time delay in Python? [duplicate]\n"
     ]
    }
   ],
   "source": [
    "recommend('What does the \"yield\" keyword do?')"
   ]
  },
  {
   "cell_type": "code",
   "execution_count": 33,
   "id": "8c25ca24",
   "metadata": {},
   "outputs": [
    {
     "data": {
      "text/plain": [
       "'How do I read / convert an InputStream into a String in Java?'"
      ]
     },
     "execution_count": 33,
     "metadata": {},
     "output_type": "execute_result"
    }
   ],
   "source": [
    "data['ques_title'][78]"
   ]
  },
  {
   "cell_type": "code",
   "execution_count": 34,
   "id": "78550b18",
   "metadata": {},
   "outputs": [
    {
     "name": "stdout",
     "output_type": "stream",
     "text": [
      "Get an OutputStream into a String\n",
      "Why is char[] preferred over String for passwords?\n",
      "How do I convert a String to an int in Java?\n",
      "How to generate a random alpha-numeric string\n",
      "Why does this code using random strings print \"hello world\"?\n"
     ]
    }
   ],
   "source": [
    "recommend('How do I read / convert an InputStream into a String in Java?')"
   ]
  },
  {
   "cell_type": "code",
   "execution_count": 35,
   "id": "81abdf4b",
   "metadata": {},
   "outputs": [
    {
     "data": {
      "text/plain": [
       "'How do I test a class that has private methods, fields or inner classes?'"
      ]
     },
     "execution_count": 35,
     "metadata": {},
     "output_type": "execute_result"
    }
   ],
   "source": [
    "data['ques_title'][200]"
   ]
  },
  {
   "cell_type": "code",
   "execution_count": 36,
   "id": "8dcc378c",
   "metadata": {},
   "outputs": [
    {
     "name": "stdout",
     "output_type": "stream",
     "text": [
      "How to mock void methods with Mockito\n",
      "How to verify that a specific method was not called using Mockito?\n",
      "Run a single test method with maven\n",
      "Difference between @Mock and @InjectMocks\n",
      "Can Mockito capture arguments of a method called multiple times?\n"
     ]
    }
   ],
   "source": [
    "recommend('How do I test a class that has private methods, fields or inner classes?')"
   ]
  },
  {
   "cell_type": "code",
   "execution_count": 37,
   "id": "057c7717",
   "metadata": {},
   "outputs": [],
   "source": [
    "import pickle"
   ]
  },
  {
   "cell_type": "code",
   "execution_count": 38,
   "id": "7a8fca80",
   "metadata": {},
   "outputs": [],
   "source": [
    "pickle.dump(data, open('model/data.pkl', 'wb'))\n",
    "pickle.dump(similarity,open('model/similarity.pkl','wb'))"
   ]
  }
 ],
 "metadata": {
  "kernelspec": {
   "display_name": "Python 3 (ipykernel)",
   "language": "python",
   "name": "python3"
  },
  "language_info": {
   "codemirror_mode": {
    "name": "ipython",
    "version": 3
   },
   "file_extension": ".py",
   "mimetype": "text/x-python",
   "name": "python",
   "nbconvert_exporter": "python",
   "pygments_lexer": "ipython3",
   "version": "3.9.7"
  }
 },
 "nbformat": 4,
 "nbformat_minor": 5
}
